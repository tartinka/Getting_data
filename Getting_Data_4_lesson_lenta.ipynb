{
 "cells": [
  {
   "cell_type": "markdown",
   "metadata": {},
   "source": [
    "Написать приложение, которое собирает основные новости с сайтов news.mail.ru, lenta.ru, yandex-новости. Для парсинга использовать XPath. Структура данных должна содержать:\n",
    "название источника;\n",
    "наименование новости;\n",
    "ссылку на новость;\n",
    "дата публикации.\n",
    "\n",
    "Вывожу новости из блока главных новостей."
   ]
  },
  {
   "cell_type": "code",
   "execution_count": 1,
   "metadata": {},
   "outputs": [
    {
     "name": "stdout",
     "output_type": "stream",
     "text": [
      "Requirement already satisfied: lxml in c:\\users\\tartinka\\anaconda3\\lib\\site-packages (4.5.0)\n"
     ]
    }
   ],
   "source": [
    "!pip install lxml"
   ]
  },
  {
   "cell_type": "code",
   "execution_count": 41,
   "metadata": {},
   "outputs": [],
   "source": [
    "from pprint import pprint\n",
    "from lxml import html\n",
    "import requests\n",
    "from user_agent import generate_user_agent\n",
    "\n",
    "header = {\"User-Agent\":generate_user_agent()}\n",
    "main_link = 'https://lenta.ru/'\n",
    "responce = requests.get(main_link, headers = header)\n",
    "dom = html.fromstring(response.text)\n"
   ]
  },
  {
   "cell_type": "code",
   "execution_count": 42,
   "metadata": {},
   "outputs": [
    {
     "data": {
      "text/plain": [
       "[<Element div at 0x21c1698ca98>,\n",
       " <Element div at 0x21c169db778>,\n",
       " <Element div at 0x21c169db958>,\n",
       " <Element div at 0x21c169db9f8>,\n",
       " <Element div at 0x21c169dbe58>,\n",
       " <Element div at 0x21c169dbd18>,\n",
       " <Element div at 0x21c169f2e58>,\n",
       " <Element div at 0x21c169f2908>,\n",
       " <Element div at 0x21c169f2c78>,\n",
       " <Element div at 0x21c169e8188>]"
      ]
     },
     "execution_count": 42,
     "metadata": {},
     "output_type": "execute_result"
    }
   ],
   "source": [
    "items = dom.xpath(\"//div[contains(@class,'b-yellow-box')]//div[contains(@class,'item')]\")\n",
    "items"
   ]
  },
  {
   "cell_type": "code",
   "execution_count": 44,
   "metadata": {},
   "outputs": [
    {
     "data": {
      "text/plain": [
       "[{'name': 'Российский «Буревестник» напугал Великобританию',\n",
       "  'link': 'https://lenta.ru//news/2020/09/13/razvedka/',\n",
       "  'date_time': '2020-09-13T18:05:00+03:00',\n",
       "  'sourse': 'https://lenta.ru/'},\n",
       " {'name': 'К резиденции Лукашенко стянули бронетехнику',\n",
       "  'link': 'https://lenta.ru//news/2020/09/13/voennie/',\n",
       "  'date_time': '2020-09-13T12:06:00+03:00',\n",
       "  'sourse': 'https://lenta.ru/'},\n",
       " {'name': 'Макгрегора арестовали',\n",
       "  'link': 'https://lenta.ru//news/2020/09/12/mcgregor/',\n",
       "  'date_time': '2020-09-12T19:43:00+03:00',\n",
       "  'sourse': 'https://lenta.ru/'},\n",
       " {'name': 'Стало известно возможное мнение Путина насчет судьбы Лукашенко',\n",
       "  'link': 'https://lenta.ru//news/2020/09/13/opinion/',\n",
       "  'date_time': '2020-09-13T16:08:00+03:00',\n",
       "  'sourse': 'https://lenta.ru/'},\n",
       " {'name': 'Объяснено возникновение идеи поместить тело Ленина в Мавзолей',\n",
       "  'link': 'https://lenta.ru//news/2020/09/13/mavzolee/',\n",
       "  'date_time': '2020-09-13T18:45:00+03:00',\n",
       "  'sourse': 'https://lenta.ru/'},\n",
       " {'name': 'ВВС США назвали место будущей войны',\n",
       "  'link': 'https://lenta.ru//news/2020/09/12/usaf/',\n",
       "  'date_time': '2020-09-12T15:40:00+03:00',\n",
       "  'sourse': 'https://lenta.ru/'},\n",
       " {'name': 'Протестующие в Минске двинулись к элитному кварталу чиновников',\n",
       "  'link': 'https://lenta.ru//news/2020/09/13/spetstekhnika/',\n",
       "  'date_time': '2020-09-13T15:16:00+03:00',\n",
       "  'sourse': 'https://lenta.ru/'},\n",
       " {'name': 'Дания выступила за пересмотр отношения к «Северному потоку-2»',\n",
       "  'link': 'https://lenta.ru//news/2020/09/12/sp2/',\n",
       "  'date_time': '2020-09-12T13:48:00+03:00',\n",
       "  'sourse': 'https://lenta.ru/'},\n",
       " {'name': 'Разработчик «Новичка» ответил на заявление о более сильной версии яда',\n",
       "  'link': 'https://lenta.ru//news/2020/09/11/nov_strngr/',\n",
       "  'date_time': '2020-09-11T19:28:00+03:00',\n",
       "  'sourse': 'https://lenta.ru/'},\n",
       " {'name': 'Кремль отреагировал на идею Медведева о раздаче денег россиянам',\n",
       "  'link': 'https://lenta.ru//news/2020/09/11/kremlin/',\n",
       "  'date_time': '2020-09-11T12:53:00+03:00',\n",
       "  'sourse': 'https://lenta.ru/'}]"
      ]
     },
     "execution_count": 44,
     "metadata": {},
     "output_type": "execute_result"
    }
   ],
   "source": [
    "news_list = []\n",
    "\n",
    "for item in items:\n",
    "    news = {}\n",
    "    name = item.xpath(\".//a/text()\")[0]\n",
    "    sourse = main_link\n",
    "    link = main_link + item.xpath(\".//a/@href\")[0]\n",
    "    \n",
    "    responce_topic = requests.get(link, headers = header)\n",
    "    dom_topic = html.fromstring(responce_topic.text)\n",
    "    dt = dom_topic.xpath(\"//div[contains(@class,'b-topic__info')]/time/@datetime\")[0]\n",
    "\n",
    "    news['name'] = name.replace('\\xa0',' ')\n",
    "    news['link'] = link\n",
    "    news['date_time'] = dt\n",
    "    news['sourse'] = sourse\n",
    "    news_list.append(news)\n",
    "news_list"
   ]
  }
 ],
 "metadata": {
  "kernelspec": {
   "display_name": "Python 3",
   "language": "python",
   "name": "python3"
  },
  "language_info": {
   "codemirror_mode": {
    "name": "ipython",
    "version": 3
   },
   "file_extension": ".py",
   "mimetype": "text/x-python",
   "name": "python",
   "nbconvert_exporter": "python",
   "pygments_lexer": "ipython3",
   "version": "3.7.6"
  }
 },
 "nbformat": 4,
 "nbformat_minor": 4
}
