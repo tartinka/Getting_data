{
 "cells": [
  {
   "cell_type": "markdown",
   "metadata": {},
   "source": [
    "Написать приложение, которое собирает основные новости с сайтов news.mail.ru, lenta.ru, yandex-новости. Для парсинга использовать XPath. Структура данных должна содержать:\n",
    "название источника;\n",
    "наименование новости;\n",
    "ссылку на новость;\n",
    "дата публикации.\n",
    "\n",
    "Вывожу новости из блока новостей о технологиях.\n",
    "тут столкнулась с тем, что не нашла отдельных блоков с названием, соответствующим виду новостей, но есть строка \"rubric=computers\" во всех ссылках в блоках с новостями о технологиях. На каждую новость 3 блока. Поэтому потом немного извратилась с делением на 3, когда я достаю из соседних блоков название источника и дату.\n",
    "Дата: С датой хотела реализовать такую логику:\n",
    "так как даты нет, а есть время, можно было бы сверять с текущим временем, если текущее меньше, значит добавлять значение вчерашней даты, если больше, то сегодняшней. Но я не справилась с конвертацией дат. Оставила время как на сайте.\n",
    "Ресурс: изначально открывала новость на отдельной странице и браза оригнальный линк ресурса. Потом удалила и оставила навзание ресурса как яндекс показывает. Можно это доработать."
   ]
  },
  {
   "cell_type": "code",
   "execution_count": 1,
   "metadata": {},
   "outputs": [
    {
     "name": "stdout",
     "output_type": "stream",
     "text": [
      "Requirement already satisfied: lxml in c:\\users\\tartinka\\anaconda3\\lib\\site-packages (4.5.0)\n"
     ]
    }
   ],
   "source": [
    "!pip install lxml"
   ]
  },
  {
   "cell_type": "code",
   "execution_count": 2,
   "metadata": {},
   "outputs": [],
   "source": [
    "from pprint import pprint\n",
    "from lxml import html\n",
    "import requests\n",
    "from user_agent import generate_user_agent\n",
    "import datetime\n",
    "\n",
    "header = {\"User-Agent\":generate_user_agent()}\n",
    "main_link = 'https://yandex.ru/news/'\n",
    "responce = requests.get(main_link, headers = header)\n",
    "dom = html.fromstring(responce.text)\n"
   ]
  },
  {
   "cell_type": "code",
   "execution_count": 22,
   "metadata": {},
   "outputs": [
    {
     "data": {
      "text/plain": [
       "[<Element a at 0x22c395a3bd8>,\n",
       " <Element a at 0x22c395a3a98>,\n",
       " <Element a at 0x22c3957def8>,\n",
       " <Element a at 0x22c3957d1d8>,\n",
       " <Element a at 0x22c39616e08>,\n",
       " <Element a at 0x22c39616f98>,\n",
       " <Element a at 0x22c39616db8>,\n",
       " <Element a at 0x22c39616ea8>,\n",
       " <Element a at 0x22c39616e58>,\n",
       " <Element a at 0x22c39616688>,\n",
       " <Element a at 0x22c39616f48>,\n",
       " <Element a at 0x22c39592138>,\n",
       " <Element a at 0x22c3958b638>,\n",
       " <Element a at 0x22c3958b048>,\n",
       " <Element a at 0x22c395b67c8>]"
      ]
     },
     "execution_count": 22,
     "metadata": {},
     "output_type": "execute_result"
    }
   ],
   "source": [
    "items = dom.xpath(\"//article[contains(@class,'mg-card')]//a[contains(@href,'rubric=computers')]\")\n",
    "\n",
    "items"
   ]
  },
  {
   "cell_type": "code",
   "execution_count": 35,
   "metadata": {},
   "outputs": [
    {
     "data": {
      "text/plain": [
       "[{'name': 'Sony показала, в каком виде будут продаваться версии PlayStation 5',\n",
       "  'link': 'https://yandex.ru/news/story/Sony_pokazala_v_kakom_vide_budut_prodavatsya_versii_PlayStation_5--e58259a68842d507fb33453ba017c2e8?lang=ru&rubric=computers&stid=jGA7zirsf8qmPR8mkzaf&t=1600345505&tt=true&persistent_id=112687564',\n",
       "  'date_time': '17:18',\n",
       "  'source': 'REGNUM'},\n",
       " {'name': 'Apple презентовала новое обновление iOS 14 GM и iPadOS 14 GM',\n",
       "  'link': 'https://yandex.ru/news/story/Apple_prezentovala_novoe_obnovlenie_iOS_14_GM_i_iPadOS_14_GM--f4f343976ce649cf64c8e7d7f10f1bb0?lang=ru&rubric=computers&stid=R3iM-DDA6-QGXGSK8xiw&t=1600345505&persistent_id=112591989',\n",
       "  'date_time': '17:16',\n",
       "  'source': 'МедиаПоток'},\n",
       " {'name': 'Опубликованы результаты тестов новейшей видеокарты GeForce RTX 3080',\n",
       "  'link': 'https://yandex.ru/news/story/Opublikovany_rezultaty_testov_novejshej_videokarty_GeForce_RTX_3080--1b456de05ecfb0c4f82e96c5279e6f87?lang=ru&rubric=computers&stid=V6lIIBkVxh5NzVCSYD4_&t=1600345505&persistent_id=112674885',\n",
       "  'date_time': '17:19',\n",
       "  'source': 'МонаВиста'},\n",
       " {'name': 'Apple повысила цены на свою новую технику в России',\n",
       "  'link': 'https://yandex.ru/news/story/Apple_povysila_ceny_na_svoyu_novuyu_tekhniku_v_Rossii--eb1546822842933f5505937e0b9c7ebf?lang=ru&rubric=computers&stid=nFLIHx6qpoD2TgAVOvLc&t=1600345505&persistent_id=112721165',\n",
       "  'date_time': '17:17',\n",
       "  'source': 'Astera'},\n",
       " {'name': 'Sony представила флагманский смартфон Xperia 5 II',\n",
       "  'link': 'https://yandex.ru/news/story/Sony_predstavila_flagmanskij_smartfon_Xperia_5_II--6864234b58a76b72c6c868aab9d95075?lang=ru&rubric=computers&stid=GVw1yfw8weYw6FpOGorf&t=1600345505&persistent_id=112718177',\n",
       "  'date_time': '17:14',\n",
       "  'source': 'Ореанда-Новости'}]"
      ]
     },
     "execution_count": 35,
     "metadata": {},
     "output_type": "execute_result"
    }
   ],
   "source": [
    "news_list = []\n",
    "item_no = 0\n",
    "\n",
    "for item in items:\n",
    "    news = {}\n",
    "    item_no += 1\n",
    "    if item_no % 3 == 1:\n",
    "        name = item.xpath(\".//h2[contains(@class,'news-card__title')]/text()\")[0]\n",
    "        link = item.xpath(\"./@href\")[0]\n",
    "        source = item.xpath(\"//span[contains(@class,'mg-card-source__source')]/a[contains(@href,'rubric=computers')]/text()\")[(item_no // 3)]\n",
    "        dt = item.xpath(\"//span[contains(@class,'mg-card-source__time')]/text()\")[(item_no // 3)]\n",
    " \n",
    "        news['name'] = name\n",
    "        news['link'] = link\n",
    "        news['date_time'] = dt\n",
    "        news['source'] = source\n",
    "        news_list.append(news)\n",
    "news_list"
   ]
  }
 ],
 "metadata": {
  "kernelspec": {
   "display_name": "Python 3",
   "language": "python",
   "name": "python3"
  },
  "language_info": {
   "codemirror_mode": {
    "name": "ipython",
    "version": 3
   },
   "file_extension": ".py",
   "mimetype": "text/x-python",
   "name": "python",
   "nbconvert_exporter": "python",
   "pygments_lexer": "ipython3",
   "version": "3.7.6"
  }
 },
 "nbformat": 4,
 "nbformat_minor": 4
}
