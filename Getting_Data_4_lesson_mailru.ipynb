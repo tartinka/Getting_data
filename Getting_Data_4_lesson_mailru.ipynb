{
 "cells": [
  {
   "cell_type": "markdown",
   "metadata": {},
   "source": [
    "Написать приложение, которое собирает основные новости с сайтов news.mail.ru, lenta.ru, yandex-новости. Для парсинга использовать XPath. Структура данных должна содержать:\n",
    "название источника;\n",
    "наименование новости;\n",
    "ссылку на новость;\n",
    "дата публикации.\n",
    "\n",
    "Вывожу новости из блока главных новостей."
   ]
  },
  {
   "cell_type": "code",
   "execution_count": 1,
   "metadata": {},
   "outputs": [
    {
     "name": "stdout",
     "output_type": "stream",
     "text": [
      "Requirement already satisfied: lxml in c:\\users\\tartinka\\anaconda3\\lib\\site-packages (4.5.0)\n"
     ]
    }
   ],
   "source": [
    "!pip install lxml"
   ]
  },
  {
   "cell_type": "code",
   "execution_count": 2,
   "metadata": {},
   "outputs": [],
   "source": [
    "from pprint import pprint\n",
    "from lxml import html\n",
    "import requests\n",
    "from user_agent import generate_user_agent\n",
    "\n",
    "header = {\"User-Agent\":generate_user_agent()}\n",
    "main_link = 'https://news.mail.ru/'\n",
    "responce = requests.get(main_link, headers = header)\n",
    "dom = html.fromstring(responce.text)\n"
   ]
  },
  {
   "cell_type": "code",
   "execution_count": 16,
   "metadata": {},
   "outputs": [
    {
     "data": {
      "text/plain": [
       "[<Element a at 0x2330fa4c5e8>,\n",
       " <Element a at 0x2330fa4c6d8>,\n",
       " <Element a at 0x2330fa4c2c8>,\n",
       " <Element a at 0x2330fa4c4f8>,\n",
       " <Element a at 0x2330fa4cb88>,\n",
       " <Element a at 0x2330fa4cb38>,\n",
       " <Element a at 0x2330fa4c0e8>,\n",
       " <Element a at 0x2330fa4c138>]"
      ]
     },
     "execution_count": 16,
     "metadata": {},
     "output_type": "execute_result"
    }
   ],
   "source": [
    "items = dom.xpath(\"//a[contains(@class,'list__text')]\")\n",
    "items"
   ]
  },
  {
   "cell_type": "code",
   "execution_count": 40,
   "metadata": {},
   "outputs": [
    {
     "data": {
      "text/plain": [
       "[{'name': 'Часть съедобных грибов признали опасными',\n",
       "  'link': 'https://news.mail.ru/society/43364072/',\n",
       "  'date_time': '2020-09-15T09:27:39+03:00',\n",
       "  'sourse': 'http://www.ria.ru'},\n",
       " {'name': 'Красная пустыня: Орегон после пожаров (фото)',\n",
       "  'link': 'https://news.mail.ru/incident/43371124/',\n",
       "  'date_time': '2020-09-15T14:38:30+03:00',\n",
       "  'sourse': 'http://www.ria.ru'},\n",
       " {'name': 'На дне Балтики нашли второй за два года корабль-загадку',\n",
       "  'link': 'https://news.mail.ru/society/43377102/',\n",
       "  'date_time': '2020-09-15T20:11:42+03:00',\n",
       "  'sourse': 'http://www.bbc.com/russian'},\n",
       " {'name': '«До» и «после»: фотографы устроили разоблачающий флешмоб в Сети',\n",
       "  'link': 'https://news.mail.ru/society/43375540/',\n",
       "  'date_time': '2020-09-15T17:57:35+03:00',\n",
       "  'sourse': 'https://news.mail.ru'},\n",
       " {'name': 'В Киргизии огромная гора сползла в ущелье на глазах у шахтеров',\n",
       "  'link': 'https://news.mail.ru/incident/43368585/',\n",
       "  'date_time': '2020-09-15T11:29:13+03:00',\n",
       "  'sourse': 'https://life.ru/'},\n",
       " {'name': 'Против футболиста Романа Широкова возбудили уголовное дело',\n",
       "  'link': 'https://sportmail.ru/news/football/43368765/',\n",
       "  'date_time': '2020-09-15T12:02:48+03:00',\n",
       "  'sourse': 'http://iz.ru/'},\n",
       " {'name': 'У берегов России участились случаи обнаружения «лодок-призраков»',\n",
       "  'link': 'https://news.mail.ru/economics/43363661/',\n",
       "  'date_time': '2020-09-15T10:48:24+03:00',\n",
       "  'sourse': 'https://lenta.ru/'},\n",
       " {'name': 'Трамп признался, что хотел устранить Асада',\n",
       "  'link': 'https://news.mail.ru/politics/43375666/',\n",
       "  'date_time': '2020-09-15T18:51:56+03:00',\n",
       "  'sourse': 'http://www.kommersant.ru'}]"
      ]
     },
     "execution_count": 40,
     "metadata": {},
     "output_type": "execute_result"
    }
   ],
   "source": [
    "news_list = []\n",
    "\n",
    "for item in items:\n",
    "    news = {}\n",
    "    name = item.xpath(\"./text()\")[0]\n",
    "    link = item.xpath(\"./@href\")[0]\n",
    "    \n",
    "    responce_topic = requests.get(link, headers = header)\n",
    "    dom_topic = html.fromstring(responce_topic.text)\n",
    "    \n",
    "    dt = dom_topic.xpath(\"//span[contains(@class,'breadcrumbs__text js-ago')]/@datetime\")[0]\n",
    "    sourse = dom_topic.xpath(\"//span[contains(@class,'breadcrumbs__item')]//a[contains(@class,'link')]/@href\")[0]\n",
    "    \n",
    "    news['name'] = name.replace('\\xa0',' ')\n",
    "    news['link'] = link\n",
    "    news['date_time'] = dt\n",
    "    news['sourse'] = sourse\n",
    "    news_list.append(news)\n",
    "news_list"
   ]
  }
 ],
 "metadata": {
  "kernelspec": {
   "display_name": "Python 3",
   "language": "python",
   "name": "python3"
  },
  "language_info": {
   "codemirror_mode": {
    "name": "ipython",
    "version": 3
   },
   "file_extension": ".py",
   "mimetype": "text/x-python",
   "name": "python",
   "nbconvert_exporter": "python",
   "pygments_lexer": "ipython3",
   "version": "3.7.6"
  }
 },
 "nbformat": 4,
 "nbformat_minor": 4
}
