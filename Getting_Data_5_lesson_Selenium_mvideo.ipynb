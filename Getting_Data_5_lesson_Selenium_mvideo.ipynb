{
 "cells": [
  {
   "cell_type": "code",
   "execution_count": 1,
   "metadata": {},
   "outputs": [
    {
     "name": "stdout",
     "output_type": "stream",
     "text": [
      "Collecting selenium\n",
      "  Downloading selenium-3.141.0-py2.py3-none-any.whl (904 kB)\n",
      "Requirement already satisfied: urllib3 in c:\\users\\tartinka.rng\\anaconda3\\lib\\site-packages (from selenium) (1.25.8)\n",
      "Installing collected packages: selenium\n",
      "Successfully installed selenium-3.141.0\n"
     ]
    },
    {
     "name": "stderr",
     "output_type": "stream",
     "text": [
      "  WARNING: Retrying (Retry(total=4, connect=None, read=None, redirect=None, status=None)) after connection broken by 'SSLError(SSLCertVerificationError(1, '[SSL: CERTIFICATE_VERIFY_FAILED] certificate verify failed: self signed certificate in certificate chain (_ssl.c:1076)'))': /packages/80/d6/4294f0b4bce4de0abf13e17190289f9d0613b0a44e5dd6a7f5ca98459853/selenium-3.141.0-py2.py3-none-any.whl\n",
      "  WARNING: Retrying (Retry(total=3, connect=None, read=None, redirect=None, status=None)) after connection broken by 'SSLError(SSLCertVerificationError(1, '[SSL: CERTIFICATE_VERIFY_FAILED] certificate verify failed: self signed certificate in certificate chain (_ssl.c:1076)'))': /packages/80/d6/4294f0b4bce4de0abf13e17190289f9d0613b0a44e5dd6a7f5ca98459853/selenium-3.141.0-py2.py3-none-any.whl\n",
      "  WARNING: Retrying (Retry(total=2, connect=None, read=None, redirect=None, status=None)) after connection broken by 'SSLError(SSLCertVerificationError(1, '[SSL: CERTIFICATE_VERIFY_FAILED] certificate verify failed: self signed certificate in certificate chain (_ssl.c:1076)'))': /packages/80/d6/4294f0b4bce4de0abf13e17190289f9d0613b0a44e5dd6a7f5ca98459853/selenium-3.141.0-py2.py3-none-any.whl\n"
     ]
    }
   ],
   "source": [
    "!pip install selenium"
   ]
  },
  {
   "cell_type": "code",
   "execution_count": 36,
   "metadata": {},
   "outputs": [],
   "source": [
    "from selenium import webdriver\n",
    "from selenium.webdriver.common.keys import Keys\n",
    "from selenium.webdriver.support.ui import Select\n",
    "import time\n",
    "from selenium.webdriver.common.action_chains import ActionChains\n",
    "from selenium.webdriver.chrome.options import Options\n",
    "from selenium.webdriver.support.ui import WebDriverWait\n",
    "from selenium.webdriver.support import expected_conditions as EC\n",
    "from selenium.webdriver.common.by import By"
   ]
  },
  {
   "cell_type": "code",
   "execution_count": 53,
   "metadata": {},
   "outputs": [
    {
     "name": "stdout",
     "output_type": "stream",
     "text": [
      "Количество товаров в разделе Хиты продаж - 9\n"
     ]
    },
    {
     "data": {
      "text/plain": [
       "[{'name': 'Смартфон Xiaomi Redmi Note 8 Pro 6+128GB Mineral Grey',\n",
       "  'link': 'https://www.mvideo.ru/products/smartfon-xiaomi-redmi-note-8-pro-6-128gb-mineral-grey-30046138',\n",
       "  'price': '21990.00'},\n",
       " {'name': 'Наушники Apple AirPods Pro with Wireless Case (MWP22RU/A)',\n",
       "  'link': 'https://www.mvideo.ru/products/naushniki-apple-airpods-pro-with-wireless-case-mwp22ru-a-50131384',\n",
       "  'price': '17990.00'},\n",
       " {'name': 'Смартфон Honor 30 Pro+ 256GB Midnight Black (EBG-AN10)',\n",
       "  'link': 'https://www.mvideo.ru/products/smartfon-honor-30-pro-256gb-midnight-black-ebg-an10-30049878',\n",
       "  'price': '54990.00'},\n",
       " {'name': 'Пылесос ручной (handstick) Tefal Air Force 160 blue TY7231WO',\n",
       "  'link': 'https://www.mvideo.ru/products/pylesos-ruchnoi-handstick-tefal-air-force-160-blue-ty7231wo-20063291',\n",
       "  'price': '9990.00'},\n",
       " {'name': 'Электрочайник Tefal Smart&Light KO851830',\n",
       "  'link': 'https://www.mvideo.ru/products/elektrochainik-tefal-smart-light-ko851830-20065589',\n",
       "  'price': '5490.00'},\n",
       " {'name': 'Смарт-часы Samsung Galaxy Watch Active SM-R500 Нежная пудра',\n",
       "  'link': 'https://www.mvideo.ru/products/smart-chasy-samsung-galaxy-watch-active-sm-r500-nezhnaya-pudra-30043073',\n",
       "  'price': '14990.00'},\n",
       " {'name': 'Смартфон Samsung Galaxy A51 64GB White (SM-A515F)',\n",
       "  'link': 'https://www.mvideo.ru/products/smartfon-samsung-galaxy-a51-64gb-white-sm-a515f-30047892',\n",
       "  'price': '19990.00'},\n",
       " {'name': 'Наушники True Wireless Samsung Galaxy Buds SM-R170 Onyx',\n",
       "  'link': 'https://www.mvideo.ru/products/naushniki-true-wireless-samsung-galaxy-buds-sm-r170-onyx-50125970',\n",
       "  'price': '7990.00'},\n",
       " {'name': 'Триммер Philips NT3160/10',\n",
       "  'link': 'https://www.mvideo.ru/products/trimmer-philips-nt3160-10-20032770',\n",
       "  'price': '1490.00'}]"
      ]
     },
     "execution_count": 53,
     "metadata": {},
     "output_type": "execute_result"
    }
   ],
   "source": [
    "chrome_options = Options()\n",
    "chrome_options.add_argument('start-maximized')\n",
    "\n",
    "driver = webdriver.Chrome('./chromedriver.exe')\n",
    "driver.get('https://www.mvideo.ru/')\n",
    "time.sleep(3)\n",
    "items_list = []\n",
    "\n",
    "\n",
    "while True:\n",
    "    hits_part = driver.find_element_by_xpath('//div[contains(text(),\"Хиты продаж\")]/ancestor::div[contains(@data-init,\"gtm-push-products\")]')\n",
    "    items = hits_part.find_elements_by_class_name('sel-product-tile-title')\n",
    "    time.sleep(10)\n",
    "   \n",
    "    for item in items:\n",
    "        item_info = {}\n",
    "        \n",
    "        item_info['name'] = item.text\n",
    "        item_info['link'] = item.get_attribute('href')\n",
    "        price = item.get_attribute('data-product-info')\n",
    "        \n",
    "        #оказалось, что в data-product-info не словарь, хотя было очень похоже, достаю оттуда цену\n",
    "        price = price.split(',')\n",
    "        price = price[0].split(': ')\n",
    "        price = price[1].replace('\\\"','')\n",
    "        item_info['price'] = price\n",
    "        \n",
    "        #в карусели товары повторяются, убираю дубли\n",
    "        if (not (item_info in items_list)) and item_info['name'] != '':\n",
    "            items_list.append(item_info)\n",
    "    \n",
    "    actions = ActionChains(driver)\n",
    "    actions.move_to_element(items[-1])\n",
    "    actions.perform()\n",
    "\n",
    "    try:\n",
    "        button = WebDriverWait(hits_part,15).until(\n",
    "            EC.presence_of_element_located((By.XPATH,\".//a[@class='next-btn sel-hits-button-next']\"))\n",
    "        )\n",
    "        button.click()\n",
    "        time.sleep(1)\n",
    "    except:\n",
    "        break\n",
    "\n",
    "print(f'Количество товаров в разделе Хиты продаж - {len(items_list)}')\n",
    "items_list\n"
   ]
  }
 ],
 "metadata": {
  "kernelspec": {
   "display_name": "Python 3",
   "language": "python",
   "name": "python3"
  },
  "language_info": {
   "codemirror_mode": {
    "name": "ipython",
    "version": 3
   },
   "file_extension": ".py",
   "mimetype": "text/x-python",
   "name": "python",
   "nbconvert_exporter": "python",
   "pygments_lexer": "ipython3",
   "version": "3.7.6"
  }
 },
 "nbformat": 4,
 "nbformat_minor": 4
}
