{
 "cells": [
  {
   "cell_type": "code",
   "execution_count": 1,
   "metadata": {},
   "outputs": [
    {
     "name": "stdout",
     "output_type": "stream",
     "text": [
      "Collecting selenium\n",
      "  Downloading selenium-3.141.0-py2.py3-none-any.whl (904 kB)\n",
      "Requirement already satisfied: urllib3 in c:\\users\\tartinka.rng\\anaconda3\\lib\\site-packages (from selenium) (1.25.8)\n",
      "Installing collected packages: selenium\n",
      "Successfully installed selenium-3.141.0\n"
     ]
    },
    {
     "name": "stderr",
     "output_type": "stream",
     "text": [
      "  WARNING: Retrying (Retry(total=4, connect=None, read=None, redirect=None, status=None)) after connection broken by 'SSLError(SSLCertVerificationError(1, '[SSL: CERTIFICATE_VERIFY_FAILED] certificate verify failed: self signed certificate in certificate chain (_ssl.c:1076)'))': /packages/80/d6/4294f0b4bce4de0abf13e17190289f9d0613b0a44e5dd6a7f5ca98459853/selenium-3.141.0-py2.py3-none-any.whl\n",
      "  WARNING: Retrying (Retry(total=3, connect=None, read=None, redirect=None, status=None)) after connection broken by 'SSLError(SSLCertVerificationError(1, '[SSL: CERTIFICATE_VERIFY_FAILED] certificate verify failed: self signed certificate in certificate chain (_ssl.c:1076)'))': /packages/80/d6/4294f0b4bce4de0abf13e17190289f9d0613b0a44e5dd6a7f5ca98459853/selenium-3.141.0-py2.py3-none-any.whl\n",
      "  WARNING: Retrying (Retry(total=2, connect=None, read=None, redirect=None, status=None)) after connection broken by 'SSLError(SSLCertVerificationError(1, '[SSL: CERTIFICATE_VERIFY_FAILED] certificate verify failed: self signed certificate in certificate chain (_ssl.c:1076)'))': /packages/80/d6/4294f0b4bce4de0abf13e17190289f9d0613b0a44e5dd6a7f5ca98459853/selenium-3.141.0-py2.py3-none-any.whl\n"
     ]
    }
   ],
   "source": [
    "!pip install selenium"
   ]
  },
  {
   "cell_type": "code",
   "execution_count": 51,
   "metadata": {},
   "outputs": [],
   "source": [
    "from selenium import webdriver\n",
    "from selenium.webdriver.common.keys import Keys\n",
    "from selenium.webdriver.support.ui import Select\n",
    "import time\n",
    "from selenium.webdriver.common.action_chains import ActionChains"
   ]
  },
  {
   "cell_type": "code",
   "execution_count": 52,
   "metadata": {},
   "outputs": [
    {
     "name": "stdout",
     "output_type": "stream",
     "text": [
      "126 писем в почтовом ящике\n"
     ]
    },
    {
     "data": {
      "text/plain": [
       "{'subject': 'Вечерний обзор IT-новостей 3 декабря',\n",
       " 'author': 'Tproger Live',\n",
       " 'date': '3 декабря 2019, 20:36',\n",
       " 'text': 'Предустановка чего-то на что-то\\nВладимир Путин подписал закон о предустановке на цифровые устройства российских приложений. Что это будут за устройства и что за приложения — пока неизвестно, списки должно составить правительство.\\nДокумент прошёл думские чтения удивительно быстро: первое состоялось 5 ноября, второе — 20 ноября, третье — уже 21 ноября. Законопроект о штрафах за продажу устройств без российских приложений пока лежит без дела (наверное, потому что пока неизвестно кого штрафовать, за продажу чего и без чего).\\nАвторы обещают, что эти приложения можно будет удалять. Вся суета с предустановкой призвана как бы информировать пользователей и освобождать их от необходимости искать и устанавливать приложения самостоятельно. Потому что «не все люди, особенно когда речь идёт о сложных технических устройствах, владеют алгоритмом установки этого приложения».\\nПрочее интересное\\nРазработчики из Google сделали DrumBot — открытый веб-сервис на нейросетях. Он в реальном времени создаёт аккомпанемент из ударных для мелодии, сыгранной на синтезаторе. Можно подключить реальный физический синтезатор или воспользоваться виртуальным экранным, который отображается в сервисе. DrumBot достаточно прослушать два такта мелодии, чтобы сгенерировать партию ударных.\\nВ тот же день Amazon анонсировала полноценный коммерческий сервис DeepComposer. В него можно загружать простую мелодию и получать на выходе готовый трек в определённом жанре с несколькими инструментами.\\nСейчас DeepComposer способен дополнить мелодию партиями электрогитары, бас-гитары, барабанов и синтезатора. В качестве жанра можно указать рок, поп-музыку, джаз и классическую музыку. А можно вообще загрузить собственный датасет и обучить нейросеть переделывать мелодию в нужном стиле.\\nВместе с сервисом Amazon представила одноимённый синтезатор, который подключается к компьютеру через USB-кабель.\\n***\\nПочта Mail.Ru запустила сайт, на котором можно поздравить самого себя или другого человека с Новым годом. Надо указать имя адресата, его возраст, увлечение и пожелание, и система сгенерирует ролик с поздравлением.\\nСамое интересное начинается внутри ролика. Там появляется умная колонка с голосовой помощницей Марусей. Официально компания не разглашает дату выпуска устройства и не даёт подробностей. Но источник vc.ru говорит, что колонка существует, и даже скинул фото.\\n***\\nБеспилотного полку прибыло: «КамАЗ» начал тестировать на производстве беспилотные грузовики. Они перевозят кабины с прессово-рамного завода на автомобильный. Машины оборудованы как надо: лидарами, радарами, видеокамерами, ультразвуковыми датчиками, а ещё модулями Wi-Fi и 4G-связи.\\n____________\\n\\nКатя Никитина\\nПоделиться\\nТвитнуть\\nПереслать\\nВы получаете эти письма, потому что подписались на рассылку Tproger.\\nОтписаться от рассылки.'}"
      ]
     },
     "execution_count": 52,
     "metadata": {},
     "output_type": "execute_result"
    }
   ],
   "source": [
    "driver = webdriver.Chrome('./chromedriver.exe')\n",
    "driver.get('https://mail.ru/')\n",
    "\n",
    "login = driver.find_element_by_id('mailbox:login-input')\n",
    "login.send_keys('study.ai_172@mail.ru')\n",
    "login.send_keys(Keys.ENTER)\n",
    "\n",
    "time.sleep(5)\n",
    "login_pass = driver.find_element_by_id('mailbox:password-input')\n",
    "login_pass.send_keys('NextPassword172')\n",
    "login_pass.send_keys(Keys.ENTER)\n",
    "time.sleep(7)\n",
    "letters_list = []\n",
    "\n",
    "all_letters_links = []\n",
    "letters = driver.find_elements_by_class_name('llc')\n",
    "last_ref = letters[-1].get_attribute('href')\n",
    "\n",
    "\n",
    "while True:    \n",
    "    for one_letter in letters:\n",
    "        if not (one_letter.get_attribute('href') in all_letters_links):\n",
    "            all_letters_links.append(one_letter.get_attribute('href'))\n",
    "\n",
    "    actions = ActionChains(driver)\n",
    "    actions.move_to_element(letters[-1])\n",
    "    actions.perform()\n",
    "\n",
    "    letters = driver.find_elements_by_class_name('llc')\n",
    "    if not (last_ref == letters[-1].get_attribute('href')):\n",
    "        last_ref = letters[-1].get_attribute('href')\n",
    "    else:\n",
    "        break\n",
    "              \n",
    "\n",
    "for one_link in all_letters_links:\n",
    "    letter_info = {}\n",
    "    driver.get(one_link)\n",
    "    time.sleep(3)\n",
    "    \n",
    "    letter_subj = driver.find_element_by_class_name('thread__subject')\n",
    "    letter_author = driver.find_element_by_class_name('letter-contact')\n",
    "    letter_date = driver.find_element_by_class_name('letter__date')\n",
    "    letter_text = driver.find_element_by_class_name('letter__body').text\n",
    "    letter_info['subject'] = letter_subj.text\n",
    "    letter_info['author'] = letter_author.text\n",
    "    letter_info['date'] = letter_date.text\n",
    "    letter_info['text'] = letter_text\n",
    "    letters_list.append(letter_info)\n",
    "    \n",
    "#вывод количества писем и  последнего элемента списка писем, чтобы убедиться, что все письма попали в список \n",
    "print(f'{len(letters_list)} писем в почтовом ящике')\n",
    "letters_list[-1]"
   ]
  }
 ],
 "metadata": {
  "kernelspec": {
   "display_name": "Python 3",
   "language": "python",
   "name": "python3"
  },
  "language_info": {
   "codemirror_mode": {
    "name": "ipython",
    "version": 3
   },
   "file_extension": ".py",
   "mimetype": "text/x-python",
   "name": "python",
   "nbconvert_exporter": "python",
   "pygments_lexer": "ipython3",
   "version": "3.7.6"
  }
 },
 "nbformat": 4,
 "nbformat_minor": 4
}
