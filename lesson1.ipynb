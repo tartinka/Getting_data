{
 "cells": [
  {
   "cell_type": "code",
   "execution_count": 2,
   "metadata": {},
   "outputs": [],
   "source": [
    "import requests\n",
    "import json"
   ]
  },
  {
   "cell_type": "code",
   "execution_count": 21,
   "metadata": {},
   "outputs": [
    {
     "name": "stdout",
     "output_type": "stream",
     "text": [
      "Ведите имя пользователя GitHub: tartinka\n",
      "Названия репозиториев пользователя tartinka:\n",
      "algebra\n",
      "Databases\n",
      "Python_libraries\n",
      "Py_libraries\n",
      "tart\n"
     ]
    }
   ],
   "source": [
    "username = input('Ведите имя пользователя GitHub: ')\n",
    "req = requests.get(f'https://api.github.com/users/{username}/repos')\n",
    "data = json.loads(req.text)\n",
    "print(f'Названия репозиториев пользователя {username}:')\n",
    "for item in data:\n",
    "    print(item['name'])\n",
    "with open('response.json', 'w', encoding='utf-8') as file:\n",
    "    json.dump(data, file, indent=2, ensure_ascii=False)"
   ]
  },
  {
   "cell_type": "code",
   "execution_count": 24,
   "metadata": {},
   "outputs": [
    {
     "name": "stdout",
     "output_type": "stream",
     "text": [
      "введите ключ: jC4uhh0PA9jEgMAuu7X5fopZjkcqScwKuOAKkqZm\n",
      "вот\n",
      "{'sol_keys': [], 'validity_checks': {'612': {'AT': {'sol_hours_with_data': [0, 1, 2, 3, 4, 5, 6], 'valid': False}, 'HWS': {'sol_hours_with_data': [0, 1, 2, 3, 4, 5, 6], 'valid': False}, 'PRE': {'sol_hours_with_data': [0, 1, 2, 3, 4, 5, 6], 'valid': False}, 'WD': {'sol_hours_with_data': [0, 1, 2, 3, 4, 5, 6], 'valid': False}}, 'sol_hours_required': 18, 'sols_checked': ['612']}}\n"
     ]
    }
   ],
   "source": [
    "apikey = input('введите ключ: ')\n",
    "req = requests.get(f'https://api.nasa.gov/insight_weather/?api_key={apikey}&feedtype=json&ver=1.0')\n",
    "data = json.loads(req.text)\n",
    "print('Погода на Марсе')\n",
    "print(data)\n",
    "with open('Mars_weather.json', 'w', encoding='utf-8') as file:\n",
    "    json.dump(data, file, indent=2, ensure_ascii=False)"
   ]
  }
 ],
 "metadata": {
  "kernelspec": {
   "display_name": "Python 3",
   "language": "python",
   "name": "python3"
  },
  "language_info": {
   "codemirror_mode": {
    "name": "ipython",
    "version": 3
   },
   "file_extension": ".py",
   "mimetype": "text/x-python",
   "name": "python",
   "nbconvert_exporter": "python",
   "pygments_lexer": "ipython3",
   "version": "3.7.6"
  }
 },
 "nbformat": 4,
 "nbformat_minor": 4
}
